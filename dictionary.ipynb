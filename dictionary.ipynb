{
  "nbformat": 4,
  "nbformat_minor": 0,
  "metadata": {
    "colab": {
      "provenance": [],
      "authorship_tag": "ABX9TyObtkh36raHEj8z2Mo8ec8G",
      "include_colab_link": true
    },
    "kernelspec": {
      "name": "python3",
      "display_name": "Python 3"
    },
    "language_info": {
      "name": "python"
    }
  },
  "cells": [
    {
      "cell_type": "markdown",
      "metadata": {
        "id": "view-in-github",
        "colab_type": "text"
      },
      "source": [
        "<a href=\"https://colab.research.google.com/github/tleitchColumbia/hw1/blob/main/dictionary.ipynb\" target=\"_parent\"><img src=\"https://colab.research.google.com/assets/colab-badge.svg\" alt=\"Open In Colab\"/></a>"
      ]
    },
    {
      "cell_type": "code",
      "execution_count": 5,
      "metadata": {
        "colab": {
          "base_uri": "https://localhost:8080/",
          "height": 35
        },
        "id": "SMC-bUUN9-gj",
        "outputId": "e0d37135-eab5-4d87-902c-efc3b793689b"
      },
      "outputs": [
        {
          "output_type": "execute_result",
          "data": {
            "text/plain": [
              "'hi how are you '"
            ],
            "application/vnd.google.colaboratory.intrinsic+json": {
              "type": "string"
            }
          },
          "metadata": {},
          "execution_count": 5
        }
      ],
      "source": [
        "#!/usr/bin/env python3\n",
        "# -*- coding: utf-8 -*-\n",
        "\"\"\"\n",
        "Created on Tue Jun 18 14:31:16 2024\n",
        "\n",
        "@author: tleitch\n",
        "\"\"\"\n",
        "\n",
        "#%%\n",
        "mystr = \"hello world!\"\n",
        "type(mystr)\n",
        "\n",
        "\n",
        "mynum = 123\n",
        "type(mynum)\n",
        "\n",
        "\n",
        "mylist = ['apple','orange','grape','banana']\n",
        "type(mylist)\n",
        "for x in mylist:\n",
        "    print(x)\n",
        "\n",
        "\n",
        "#%%\n",
        "myrange = range(1,11)\n",
        "print(myrange)\n",
        "type(myrange)\n",
        "for i in myrange:\n",
        "    print(i)\n",
        "\n",
        "#%%\n",
        "list(myrange)\n",
        "type(list(myrange))\n",
        "list(range(10))\n",
        "\n",
        "\n",
        "#%% Dictionary\n",
        "\n",
        "d = {\"name\":\"Alan\",\"age\":20,\"favColors\":['red','yellow','blue'],\"faveNums\":[1,2,3]}\n",
        "d.keys()\n",
        "d.values()\n",
        "\n",
        "d['name']\n",
        "\n",
        "for key in d.keys():\n",
        "    print(d[key])\n",
        "\n",
        "\n",
        "d.items()\n",
        "\n",
        "d['favFood']\n",
        "\n",
        "d2 = d.copy()\n",
        "d.pop(\"name\")\n",
        "d.clear()\n",
        "del(d)\n",
        "\n",
        "\n",
        "#%% Empty Dictionary from loop version 1 of 3\n",
        "\n",
        "d = {}\n",
        "names = ['alan','bob','charlie']\n",
        "favNum = [2,7,13]\n",
        "for i in range(3):\n",
        "    d[names[i]] = favNum[i]\n",
        "print(d)\n",
        "\n",
        "\n",
        "#%% Empty Dictionary from loop version 2 of 3\n",
        "\n",
        "d = {}\n",
        "names = ['alan','bob','charlie']\n",
        "favNum = [2,7,13]\n",
        "for i,name in enumerate(names):\n",
        "    d[name] = favNum[i]\n",
        "print(d)\n",
        "\n",
        "\n",
        "#%% Empty Dictionary from loop version 3 of 3\n",
        "\n",
        "d = {}\n",
        "names = ['alan','bob','charlie']\n",
        "favNum = [2,7,13]\n",
        "for name,num in zip(names,favNum):\n",
        "    d[name] = num\n",
        "print(d)\n",
        "\n",
        "#%%\n",
        "\n",
        "for name,num in zip(d.keys(),d.values()):\n",
        "    print(name,num)\n",
        "\n",
        "\n",
        "#%% Empty Dictionary from keys\n",
        "\n",
        "names = ['alan','bob','charlie']\n",
        "ages = 0\n",
        "mydict3 = dict.fromkeys(names,ages)\n",
        "\n",
        "\n",
        "#%%\n",
        "mybool = bool()\n",
        "print(mybool == False)"
      ]
    }
  ]
}