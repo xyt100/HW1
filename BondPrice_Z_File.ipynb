{
  "nbformat": 4,
  "nbformat_minor": 0,
  "metadata": {
    "colab": {
      "provenance": [],
      "authorship_tag": "ABX9TyM5w/APdzD6hAjXfJCAQn0t",
      "include_colab_link": true
    },
    "kernelspec": {
      "name": "python3",
      "display_name": "Python 3"
    },
    "language_info": {
      "name": "python"
    }
  },
  "cells": [
    {
      "cell_type": "markdown",
      "metadata": {
        "id": "view-in-github",
        "colab_type": "text"
      },
      "source": [
        "<a href=\"https://colab.research.google.com/github/xyt100/HW1/blob/main/BondPrice_Z_File.ipynb\" target=\"_parent\"><img src=\"https://colab.research.google.com/assets/colab-badge.svg\" alt=\"Open In Colab\"/></a>"
      ]
    },
    {
      "cell_type": "code",
      "execution_count": null,
      "metadata": {
        "id": "hdf3Kf6Iyx3H"
      },
      "outputs": [],
      "source": [
        "def getBondPrice_Z(face, couponRate, times, yc):\n",
        "\n",
        "    if len(times) != len(yc):\n",
        "        raise ValueError\n",
        "\n",
        "    coupon = face * couponRate\n",
        "\n",
        "    bondPrice = 0.0\n",
        "\n",
        "    for i, (t, y) in enumerate(zip(times, yc)):\n",
        "\n",
        "        if i < len(times) - 1:\n",
        "            bondPrice += coupon / ((1 + y) ** t)\n",
        "        else:\n",
        "            bondPrice += (coupon + face) / ((1 + y) ** t)\n",
        "\n",
        "    return bondPrice"
      ]
    }
  ]
}