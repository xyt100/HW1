{
  "nbformat": 4,
  "nbformat_minor": 0,
  "metadata": {
    "colab": {
      "provenance": [],
      "authorship_tag": "ABX9TyPcozQHmIT+k5OON9TuLx73",
      "include_colab_link": true
    },
    "kernelspec": {
      "name": "python3",
      "display_name": "Python 3"
    },
    "language_info": {
      "name": "python"
    }
  },
  "cells": [
    {
      "cell_type": "markdown",
      "metadata": {
        "id": "view-in-github",
        "colab_type": "text"
      },
      "source": [
        "<a href=\"https://colab.research.google.com/github/tleitchColumbia/hw1/blob/main/loops.ipynb\" target=\"_parent\"><img src=\"https://colab.research.google.com/assets/colab-badge.svg\" alt=\"Open In Colab\"/></a>"
      ]
    },
    {
      "cell_type": "code",
      "execution_count": 23,
      "metadata": {
        "colab": {
          "base_uri": "https://localhost:8080/"
        },
        "id": "SMC-bUUN9-gj",
        "outputId": "30d6fc13-45ce-4b73-f942-3ead79db5c28"
      },
      "outputs": [
        {
          "output_type": "stream",
          "name": "stdout",
          "text": [
            "1\n",
            "2\n",
            "42\n"
          ]
        }
      ],
      "source": [
        "#!/usr/bin/env python3\n",
        "# -*- coding: utf-8 -*-\n",
        "\"\"\"\n",
        "Created on Tue Jun 11 21:08:07 2024\n",
        "\n",
        "@author: tleitch\n",
        "\"\"\"\n",
        "\n",
        "\n",
        "for i in range(5):\n",
        "    print(i)\n",
        "\n",
        "\n",
        "mylist = ['cat','dog','fish','giraffe',1,.075]\n",
        "for x in mylist:\n",
        "    print(x)\n",
        "\n",
        "i = 0\n",
        "while i < 5:\n",
        "    print(i)\n",
        "    i += 1\n",
        "\n",
        "\n",
        "\n",
        "\n",
        "# Tuple\n",
        "\n",
        "mytup = [(1,2,3),(4,5,6)]\n",
        "for x in mytup:\n",
        "    print(x)\n",
        "\n",
        "# Error:\n",
        "mytup[0] = 10\n",
        "\n",
        "mylist = [1,2,42]\n",
        "for i,x in enumerate(mylist):\n",
        "    print(i,x)\n",
        "\n",
        "mylist = ['cat','dog','fish']\n",
        "for i,x in enumerate(mylist):\n",
        "    print(i,x)\n",
        "\n",
        "mylist = [1,2,42]\n",
        "for x in mylist:\n",
        "    print(x)\n",
        "\n",
        "# typical tuple\n",
        "mylist = ['cat','dog','fish']\n",
        "mylist2 = ['lion','wolf','whale']\n",
        "mylist3 = [0,1,2]\n",
        "for x,y,z in zip(mylist,mylist2,mylist3):\n",
        "    print(x,y,z)\n"
      ]
    }
  ]
}