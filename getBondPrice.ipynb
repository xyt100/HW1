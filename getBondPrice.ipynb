{
  "nbformat": 4,
  "nbformat_minor": 0,
  "metadata": {
    "colab": {
      "provenance": [],
      "toc_visible": true,
      "include_colab_link": true
    },
    "kernelspec": {
      "name": "python3",
      "display_name": "Python 3"
    },
    "language_info": {
      "name": "python"
    }
  },
  "cells": [
    {
      "cell_type": "markdown",
      "metadata": {
        "id": "view-in-github",
        "colab_type": "text"
      },
      "source": [
        "<a href=\"https://colab.research.google.com/github/xyt100/HW1/blob/main/getBondPrice.ipynb\" target=\"_parent\"><img src=\"https://colab.research.google.com/assets/colab-badge.svg\" alt=\"Open In Colab\"/></a>"
      ]
    },
    {
      "cell_type": "code",
      "source": [
        "def getBondPrice(y, face, couponRate, m, ppy=1):\n",
        "    N = m * ppy\n",
        "    cpn = couponRate * face / ppy\n",
        "    bondPrice = cpn * (1 - (1 + y/ppy) ** (-N)) / (y/ppy) + face * (1 + y/ppy) ** (-N)\n",
        "    return bondPrice"
      ],
      "metadata": {
        "id": "FBRasEBsmzs8"
      },
      "execution_count": 1,
      "outputs": []
    },
    {
      "cell_type": "code",
      "source": [
        "def getBondDuration(y, face, couponRate, m, ppy=1):\n",
        "    N = m * ppy\n",
        "    cpn = couponRate * face / ppy\n",
        "    discounted_cf_sum = 0.0\n",
        "    weighted_cf_sum = 0.0\n",
        "\n",
        "    for i in range(1, N + 1):\n",
        "        t = i / ppy\n",
        "\n",
        "        if i < N:\n",
        "            cf = cpn\n",
        "        else:\n",
        "            cf = cpn + face\n",
        "        discount_factor = (1 + y / ppy) ** (-i)\n",
        "\n",
        "        discounted_cf = cf * discount_factor\n",
        "\n",
        "        discounted_cf_sum += discounted_cf\n",
        "\n",
        "        weighted_cf_sum += t * discounted_cf\n",
        "\n",
        "    bondDuration = weighted_cf_sum / discounted_cf_sum\n",
        "\n",
        "    return bondDuration\n",
        "\n"
      ],
      "metadata": {
        "id": "QqlbfqNNplaA"
      },
      "execution_count": 6,
      "outputs": []
    },
    {
      "cell_type": "code",
      "source": [
        "def getBondPrice_Z(face, couponRate, times, yc):\n",
        "\n",
        "    if len(times) != len(yc):\n",
        "        raise ValueError\n",
        "\n",
        "    coupon = face * couponRate\n",
        "\n",
        "    bondPrice = 0.0\n",
        "\n",
        "    for i, (t, y) in enumerate(zip(times, yc)):\n",
        "\n",
        "        if i < len(times) - 1:\n",
        "            bondPrice += coupon / ((1 + y) ** t)\n",
        "        else:\n",
        "            bondPrice += (coupon + face) / ((1 + y) ** t)\n",
        "\n",
        "    return bondPrice"
      ],
      "metadata": {
        "id": "6fNyY7oitFwj"
      },
      "execution_count": 7,
      "outputs": []
    },
    {
      "cell_type": "code",
      "source": [
        "def getBondPrice_E(face, couponRate, yc):\n",
        "\n",
        "    coupon = face * couponRate\n",
        "\n",
        "    bondPrice = 0.0\n",
        "\n",
        "    for i, y in enumerate(yc, start=1):\n",
        "        df = (1 + y) ** i\n",
        "\n",
        "        if i < len(yc):\n",
        "            bondPrice += coupon / df\n",
        "        else:\n",
        "            bondPrice += (coupon + face) / df\n",
        "\n",
        "    return bondPrice"
      ],
      "metadata": {
        "id": "gusu6oPysgvC"
      },
      "execution_count": 5,
      "outputs": []
    },
    {
      "cell_type": "code",
      "source": [
        "def FizzBuzz(start, finish):\n",
        "    outlist = []\n",
        "    for num in range(start, finish + 1):\n",
        "        if num % 3 == 0 and num % 5 == 0:\n",
        "            outlist.append(\"fizzbuzz\")\n",
        "        elif num % 3 == 0:\n",
        "            outlist.append(\"fizz\")\n",
        "        elif num % 5 == 0:\n",
        "            outlist.append(\"buzz\")\n",
        "        else:\n",
        "            outlist.append(num)\n",
        "    return outlist\n"
      ],
      "metadata": {
        "id": "yxvRfRO2t0ii"
      },
      "execution_count": 8,
      "outputs": []
    },
    {
      "cell_type": "markdown",
      "source": [
        "# 新段落"
      ],
      "metadata": {
        "id": "HLXk1QOVqXK4"
      }
    }
  ]
}