{
  "nbformat": 4,
  "nbformat_minor": 0,
  "metadata": {
    "colab": {
      "provenance": [],
      "authorship_tag": "ABX9TyOAkYx+aJ7ETRwJKBs09XXo",
      "include_colab_link": true
    },
    "kernelspec": {
      "name": "python3",
      "display_name": "Python 3"
    },
    "language_info": {
      "name": "python"
    }
  },
  "cells": [
    {
      "cell_type": "markdown",
      "metadata": {
        "id": "view-in-github",
        "colab_type": "text"
      },
      "source": [
        "<a href=\"https://colab.research.google.com/github/xyt100/HW1/blob/main/FizzBuzz_File.ipynb\" target=\"_parent\"><img src=\"https://colab.research.google.com/assets/colab-badge.svg\" alt=\"Open In Colab\"/></a>"
      ]
    },
    {
      "cell_type": "code",
      "execution_count": null,
      "metadata": {
        "id": "02c06KoAy3mm"
      },
      "outputs": [],
      "source": [
        "def FizzBuzz(start, finish):\n",
        "    outlist = []\n",
        "    for num in range(start, finish + 1):\n",
        "        if num % 3 == 0 and num % 5 == 0:\n",
        "            outlist.append(\"fizzbuzz\")\n",
        "        elif num % 3 == 0:\n",
        "            outlist.append(\"fizz\")\n",
        "        elif num % 5 == 0:\n",
        "            outlist.append(\"buzz\")\n",
        "        else:\n",
        "            outlist.append(num)\n",
        "    return outlist"
      ]
    }
  ]
}